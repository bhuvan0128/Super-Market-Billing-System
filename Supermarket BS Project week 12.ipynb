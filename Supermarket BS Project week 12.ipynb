{
 "cells": [
  {
   "cell_type": "code",
   "execution_count": null,
   "id": "d00e3c41-3fcd-484d-aa8f-166428724804",
   "metadata": {},
   "outputs": [],
   "source": [
    "SUPERMARKET BILLING SYSTEM"
   ]
  },
  {
   "cell_type": "code",
   "execution_count": 1,
   "id": "5756557c-405e-4f92-85b6-602aad2fe452",
   "metadata": {},
   "outputs": [
    {
     "name": "stdout",
     "output_type": "stream",
     "text": [
      "Welcome to Supermarket Billing System!!\n"
     ]
    },
    {
     "name": "stdin",
     "output_type": "stream",
     "text": [
      "Enter your name:  Bhuvan Jari\n",
      "Enter your phone number:  9844210l70\n"
     ]
    },
    {
     "name": "stdout",
     "output_type": "stream",
     "text": [
      "please enter a valid 10-digit phone number.\n"
     ]
    },
    {
     "name": "stdin",
     "output_type": "stream",
     "text": [
      "Enter your phone number:  9844210870\n"
     ]
    },
    {
     "name": "stdout",
     "output_type": "stream",
     "text": [
      "\n",
      "Start entering the items: \n"
     ]
    },
    {
     "name": "stdin",
     "output_type": "stream",
     "text": [
      "Enter item name (or type 'done' to finish):  Mango\n",
      "Enter quantity for Mango:  12\n",
      "Enter price for Mango:  120\n",
      "Enter item name (or type 'done' to finish):  Milk\n",
      "Enter quantity for Milk:  5\n",
      "Enter price for Milk:  90\n",
      "Enter item name (or type 'done' to finish):  Ice Cream\n",
      "Enter quantity for Ice Cream:  7\n",
      "Enter price for Ice Cream:  175\n",
      "Enter item name (or type 'done' to finish):  Notebook\n",
      "Enter quantity for Notebook:  10\n",
      "Enter price for Notebook:  400\n",
      "Enter item name (or type 'done' to finish):  done\n",
      "\n",
      "Enter payment method (cash or card):  cash\n"
     ]
    },
    {
     "name": "stdout",
     "output_type": "stream",
     "text": [
      "\n",
      "======= BILL =======\n",
      "customer Name: Bhuvan Jari\n",
      "Phone Number: 9844210870\n",
      "items:\n",
      "Mango - 12 x 120.0 = 1440.0\n",
      "Milk - 5 x 90.0 = 450.0\n",
      "Ice Cream - 7 x 175.0 = 1225.0\n",
      "Notebook - 10 x 400.0 = 4000.0\n",
      "\n",
      "Subtotal: 7115.0\n",
      "Discount: 355.75\n",
      "Total: 6759.25\n",
      "Payment method: cash\n",
      "====================\n",
      "THANK YOU FOR SHOPING WITH SUPERMARKET!!\n"
     ]
    }
   ],
   "source": [
    "print(\"Welcome to Supermarket Billing System!!\")\n",
    "\n",
    "#Ask for Customer Details\n",
    "customer_name = input(\"Enter your name: \")\n",
    "phone_number = input(\"Enter your phone number: \")\n",
    "while len(phone_number) != 10 or not phone_number.isdigit():\n",
    "    print(\"please enter a valid 10-digit phone number.\")\n",
    "    phone_number = input(\"Enter your phone number: \")\n",
    "\n",
    "#Adding items\n",
    "print(\"\\nStart entering the items: \")\n",
    "items = []\n",
    "total = 0\n",
    "\n",
    "while True:\n",
    "    item_name = input(\"Enter item name (or type 'done' to finish): \")\n",
    "    if item_name.lower() == 'done':\n",
    "        break\n",
    "    quantity = int(input(f\"Enter quantity for {item_name}: \"))\n",
    "    price = float(input(f\"Enter price for {item_name}: \"))\n",
    "\n",
    "    items.append([item_name, quantity, price])\n",
    "    total += quantity * price\n",
    "\n",
    "#Discount calculation\n",
    "if total > 500:\n",
    "    discount = total * 0.05 # 5% discount\n",
    "elif total > 1000:\n",
    "    discount = total * 0.1 # 10% discount\n",
    "else:\n",
    "    doscount = 0\n",
    "\n",
    "final_total = total - discount\n",
    "\n",
    "#Ask for payment method\n",
    "payment_method = input(\"\\nEnter payment method (cash or card): \")\n",
    "\n",
    "#Printing the bill\n",
    "print(\"\\n======= BILL =======\")\n",
    "print(f\"customer Name: {customer_name}\")\n",
    "print(f\"Phone Number: {phone_number}\")\n",
    "print(\"items:\")\n",
    "\n",
    "for item in items:\n",
    "    print(f\"{item[0]} - {item[1]} x {item[2]} = {item[1] * item[2]}\")\n",
    "\n",
    "print(f\"\\nSubtotal: {total}\")\n",
    "print(f\"Discount: {discount}\")\n",
    "print(f\"Total: {final_total}\")\n",
    "print(f\"Payment method: {payment_method}\")\n",
    "print(\"====================\")\n",
    "\n",
    "print(\"THANK YOU FOR SHOPING WITH SUPERMARKET!!\")"
   ]
  }
 ],
 "metadata": {
  "kernelspec": {
   "display_name": "Python 3 (ipykernel)",
   "language": "python",
   "name": "python3"
  },
  "language_info": {
   "codemirror_mode": {
    "name": "ipython",
    "version": 3
   },
   "file_extension": ".py",
   "mimetype": "text/x-python",
   "name": "python",
   "nbconvert_exporter": "python",
   "pygments_lexer": "ipython3",
   "version": "3.13.1"
  }
 },
 "nbformat": 4,
 "nbformat_minor": 5
}
